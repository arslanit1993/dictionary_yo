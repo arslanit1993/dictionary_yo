{
 "cells": [
  {
   "cell_type": "code",
   "execution_count": 53,
   "metadata": {},
   "outputs": [],
   "source": [
    "\n",
    "import json\n",
    "from file import*\n",
    "\n",
    "\n",
    "\n",
    "#INTERACT WITH THE USER    \t\t\t\n",
    "def interactor(arg_1):\n",
    "    the_ratings = []\n",
    "    the_lowest = 0\n",
    "    for i in range(len(arg_1)):\n",
    "        the_ratings.append(arg_1[i][\"rating\"])    \n",
    "    \n",
    "    the_lowest = min(the_ratings)\n",
    "    \n",
    "\n",
    "    #ASK_INCREMENT_THE_LOWEST_RATING \n",
    "    for i in range(len(arg_1)):\n",
    "        if arg_1[i][\"rating\"] == the_lowest:\n",
    "            a = input(f\"{arg_1[i]['word']}, \\n\")\n",
    "            if a == arg_1[i][\"translation\"]:\n",
    "                arg_1[i][\"rating\"] = arg_1[i][\"rating\"] + 1\n",
    "                print(arg_1)\n",
    "            elif a == \"F\":\n",
    "                return append_write(arg_1)\n",
    "            else:\n",
    "                arg_1[i][\"rating\"] = arg_1[i][\"rating\"] - 1\n",
    "    \n",
    "    print(arg_1)\n",
    "    return interactor(arg_1)\n",
    "                \n",
    "    \n",
    "\n",
    "#WRITE INTO THE FILE \n",
    "def append_write(arg_1):\n",
    "\n",
    "\twith open('file.py','w') as data:\n",
    "\t\tdata.write(\"a = \")\n",
    "\n",
    "\n",
    "\twith open('file.py','a') as data:\n",
    "\t\tdata.write(str(a))\n"
   ]
  },
  {
   "cell_type": "code",
   "execution_count": 54,
   "metadata": {},
   "outputs": [
    {
     "name": "stdout",
     "output_type": "stream",
     "text": [
      "({'word': 'i', 'translation': 'ben', 'rating': 0}, {'word': 'you', 'translation': 'sen', 'rating': 0})\n",
      "({'word': 'i', 'translation': 'ben', 'rating': 0}, {'word': 'you', 'translation': 'sen', 'rating': 0})\n",
      "({'word': 'i', 'translation': 'ben', 'rating': 1}, {'word': 'you', 'translation': 'sen', 'rating': 0})\n",
      "({'word': 'i', 'translation': 'ben', 'rating': 1}, {'word': 'you', 'translation': 'sen', 'rating': 1})\n",
      "({'word': 'i', 'translation': 'ben', 'rating': 1}, {'word': 'you', 'translation': 'sen', 'rating': 1})\n",
      "({'word': 'i', 'translation': 'ben', 'rating': 2}, {'word': 'you', 'translation': 'sen', 'rating': 1})\n",
      "({'word': 'i', 'translation': 'ben', 'rating': 2}, {'word': 'you', 'translation': 'sen', 'rating': 2})\n",
      "({'word': 'i', 'translation': 'ben', 'rating': 2}, {'word': 'you', 'translation': 'sen', 'rating': 2})\n",
      "({'word': 'i', 'translation': 'ben', 'rating': 3}, {'word': 'you', 'translation': 'sen', 'rating': 2})\n",
      "({'word': 'i', 'translation': 'ben', 'rating': 3}, {'word': 'you', 'translation': 'sen', 'rating': 3})\n",
      "({'word': 'i', 'translation': 'ben', 'rating': 3}, {'word': 'you', 'translation': 'sen', 'rating': 3})\n"
     ]
    }
   ],
   "source": [
    "interactor(a)"
   ]
  }
 ],
 "metadata": {
  "interpreter": {
   "hash": "0f83e486f800069005b4aa22b228afe18903a056487fda148fc4fb3214b158c6"
  },
  "kernelspec": {
   "display_name": "Python 3.9.13 ('base')",
   "language": "python",
   "name": "python3"
  },
  "language_info": {
   "codemirror_mode": {
    "name": "ipython",
    "version": 3
   },
   "file_extension": ".py",
   "mimetype": "text/x-python",
   "name": "python",
   "nbconvert_exporter": "python",
   "pygments_lexer": "ipython3",
   "version": "3.9.13"
  },
  "orig_nbformat": 4
 },
 "nbformat": 4,
 "nbformat_minor": 2
}
